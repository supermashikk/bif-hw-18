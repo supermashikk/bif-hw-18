{
 "cells": [
  {
   "cell_type": "code",
   "execution_count": 10,
   "metadata": {},
   "outputs": [
    {
     "name": "stdout",
     "output_type": "stream",
     "text": [
      "0.0002\n"
     ]
    }
   ],
   "source": [
    "import pandas as pd\n",
    "import numpy as np\n",
    "import random\n",
    "import matplotlib.pyplot as plt\n",
    "from sklearn.linear_model import LogisticRegression\n",
    "from sklearn.metrics import accuracy_score, balanced_accuracy_score\n",
    "\n",
    "np.random.seed(17)\n",
    "reg = LogisticRegression(penalty = 'none')\n",
    "\n",
    "M = 10000\n",
    "N = 20\n",
    "count = 0\n",
    "for i in range(M):\n",
    "    \n",
    "    X = np.random.normal(loc=0, scale=1, size = (N, 2))\n",
    "    y = np.zeros(N)\n",
    "    k = list(range(N))\n",
    "    y[random.sample(k, N//2)] = 1\n",
    "    \n",
    "    reg.fit(X, y)\n",
    "    \n",
    "    acc = np.sum(reg.predict(X) == y)/N\n",
    "    if acc == 1:\n",
    "        count += 1\n",
    "\n",
    "print(count/M)"
   ]
  }
 ],
 "metadata": {
  "kernelspec": {
   "display_name": "Python 3",
   "language": "python",
   "name": "python3"
  },
  "language_info": {
   "codemirror_mode": {
    "name": "ipython",
    "version": 3
   },
   "file_extension": ".py",
   "mimetype": "text/x-python",
   "name": "python",
   "nbconvert_exporter": "python",
   "pygments_lexer": "ipython3",
   "version": "3.7.9"
  }
 },
 "nbformat": 4,
 "nbformat_minor": 4
}
