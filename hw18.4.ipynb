{
 "cells": [
  {
   "cell_type": "code",
   "execution_count": 51,
   "metadata": {},
   "outputs": [
    {
     "name": "stdout",
     "output_type": "stream",
     "text": [
      "Balanced accuracy score for SVM with all genes:  0.8696969696969697\n",
      "[[ 0.          0.          0.          0.          0.          0.\n",
      "   0.27091637  0.          0.          0.          0.          0.\n",
      "   0.          0.          0.          0.          0.          0.\n",
      "   0.          0.          0.          0.          0.          0.\n",
      "   0.          0.          0.          0.          0.          0.\n",
      "   0.         -0.36146113  0.          0.          0.          0.\n",
      "   0.          0.          0.          0.          0.          0.\n",
      "   0.          0.          0.          0.          0.          0.\n",
      "   0.          0.        ]]\n",
      "Balanced accuracy score for logistic regression with all genes:  0.7992673992673993\n",
      "Index(['BAG1', 'BIRC5'], dtype='object')\n",
      "Balanced accuracy score for SVM with 2 genes:  0.743820224719101\n"
     ]
    }
   ],
   "source": [
    "import pandas as pd\n",
    "import numpy as np\n",
    "\n",
    "from sklearn.svm import SVC\n",
    "from sklearn.metrics import balanced_accuracy_score\n",
    "from sklearn.model_selection import train_test_split\n",
    "from sklearn.linear_model import LogisticRegression\n",
    "\n",
    "df = pd.read_csv('https://raw.githubusercontent.com/s-a-nersisyan/HSE_bioinformatics_2021/master/seminar18/BRCA_pam50.tsv', sep = '\\t', index_col = 0)\n",
    "df = df.loc[(df['Subtype'] == 'Luminal A')| (df['Subtype'] == 'Luminal B')]\n",
    "\n",
    "X = df.iloc[:,:-1].to_numpy()\n",
    "y = df['Subtype'].to_numpy()\n",
    "\n",
    "X_train, X_test, y_train, y_test = train_test_split(X, y, stratify=y, random_state=17)\n",
    "\n",
    "model = SVC(kernel='linear', class_weight='balanced')\n",
    "model.fit(X_train, y_train)\n",
    "\n",
    "y_pred = model.predict(X_test)\n",
    "print('Balanced accuracy score for SVM with all genes: ', balanced_accuracy_score(y_pred, y_test))\n",
    "\n",
    "reg = LogisticRegression(class_weight = 'balanced', C=0.01, penalty='l1', solver='liblinear')\n",
    "reg.fit(X_train, y_train)\n",
    "print(reg.coef_)\n",
    "y_pred = reg.predict(X_test)\n",
    "print('Balanced accuracy score for logistic regression with all genes: ', balanced_accuracy_score(y_pred, y_test))\n",
    "\n",
    "\n",
    "df1 = df.iloc[:, :-1]\n",
    "df1.loc['Weights'] = model.coef_[0]\n",
    "df1.loc['Weights'] = np.abs(df1.loc['Weights'])\n",
    "df1 = df1.sort_values(by='Weights', axis=1, ascending=False).iloc[:-1, :2]\n",
    "print(df1.columns)\n",
    "\n",
    "X = df1.to_numpy()\n",
    "\n",
    "X_train, X_test, y_train, y_test = train_test_split(X, y, stratify=y, random_state=17)\n",
    "\n",
    "model.fit(X_train, y_train)\n",
    "y_pred = model.predict(X_test)\n",
    "\n",
    "print('Balanced accuracy score for SVM with 2 genes: ', balanced_accuracy_score(y_pred, y_test))"
   ]
  }
 ],
 "metadata": {
  "kernelspec": {
   "display_name": "Python 3",
   "language": "python",
   "name": "python3"
  },
  "language_info": {
   "codemirror_mode": {
    "name": "ipython",
    "version": 3
   },
   "file_extension": ".py",
   "mimetype": "text/x-python",
   "name": "python",
   "nbconvert_exporter": "python",
   "pygments_lexer": "ipython3",
   "version": "3.7.9"
  }
 },
 "nbformat": 4,
 "nbformat_minor": 4
}
